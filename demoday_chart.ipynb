{
 "cells": [
  {
   "cell_type": "markdown",
   "id": "3d991180",
   "metadata": {},
   "source": [
    "# Scheduling transpiler pass upgrade\n",
    "\n",
    "Qiskit demoday (Mar. 17. 2022)\n",
    "\n",
    "Naoki Kanazawa (@Naoki Kanazawa)\n",
    "\n",
    "#### Relevant PRs:\n",
    "\n",
    "- Fix ASAP/ALAP scheduling pass ([qiskit-terra/#7655](https://github.com/Qiskit/qiskit-terra/pull/7655), merged)\n",
    "\n",
    "- Split scheduling pass into scheduling and padding ([qiskit-terra/#7709](https://github.com/Qiskit/qiskit-terra/pull/7709), merged)\n",
    "\n",
    "- Dynamical Decoupling pass with pulse alignment ([qiskit-terra/#7760](https://github.com/Qiskit/qiskit-terra/pull/7760))\n",
    "  \n",
    "- [WIP] Replace AlignMeasures with ConstrainedReschedule for pulse alignment ([qiskit-terra/#7762](https://github.com/Qiskit/qiskit-terra/pull/7762))\n",
    "\n",
    "#### TODO:\n",
    "- Timeline drawer updates"
   ]
  },
  {
   "cell_type": "markdown",
   "id": "7ae03642",
   "metadata": {},
   "source": [
    "### Background"
   ]
  },
  {
   "cell_type": "code",
   "execution_count": 1,
   "id": "4e0fc9ea",
   "metadata": {},
   "outputs": [
    {
     "data": {
      "text/html": [
       "<pre style=\"word-wrap: normal;white-space: pre;background: #fff0;line-height: 1.1;font-family: &quot;Courier New&quot;,Courier,monospace\">     ┌────┐┌────────────────┐        \n",
       "q_0: ┤ √X ├┤ Delay(100[dt]) ├──■─────\n",
       "     └────┘└────────────────┘┌─┴─┐┌─┐\n",
       "q_1: ────────────────────────┤ X ├┤M├\n",
       "                             └───┘└╥┘\n",
       "c: 1/══════════════════════════════╩═\n",
       "                                   0 </pre>"
      ],
      "text/plain": [
       "     ┌────┐┌────────────────┐        \n",
       "q_0: ┤ √X ├┤ Delay(100[dt]) ├──■─────\n",
       "     └────┘└────────────────┘┌─┴─┐┌─┐\n",
       "q_1: ────────────────────────┤ X ├┤M├\n",
       "                             └───┘└╥┘\n",
       "c: 1/══════════════════════════════╩═\n",
       "                                   0 "
      ]
     },
     "execution_count": 1,
     "metadata": {},
     "output_type": "execute_result"
    }
   ],
   "source": [
    "from qiskit import QuantumCircuit\n",
    "\n",
    "qc = QuantumCircuit(2, 1)\n",
    "qc.sx(0)\n",
    "qc.delay(100, 0)\n",
    "qc.cx(0, 1)\n",
    "qc.measure(1, 0)\n",
    "\n",
    "qc.draw()"
   ]
  },
  {
   "cell_type": "markdown",
   "id": "b3b9b364",
   "metadata": {},
   "source": [
    "This circuit cannot be executed on a real hardware. In IBM Quantum backends, waveform data is stored in the memory chunked with 16 datapoints to realize high AWG bandwidth at 4.5 GSps. This chunk size appears in `timing_constraints`."
   ]
  },
  {
   "cell_type": "code",
   "execution_count": 2,
   "id": "7b0528a8",
   "metadata": {},
   "outputs": [
    {
     "data": {
      "text/plain": [
       "{'acquire_alignment': 16,\n",
       " 'granularity': 16,\n",
       " 'min_length': 64,\n",
       " 'pulse_alignment': 16}"
      ]
     },
     "execution_count": 2,
     "metadata": {},
     "output_type": "execute_result"
    }
   ],
   "source": [
    "from qiskit.test.mock import FakeWashington\n",
    "\n",
    "FakeWashington().configuration().timing_constraints"
   ]
  },
  {
   "cell_type": "markdown",
   "id": "67f0d3b2",
   "metadata": {},
   "source": [
    "This hardware implementation introduces extra scheduling constraints at microarchitecture level, `acquire_alignment` and `pulse_alignment`.\n",
    "\n",
    "- `Measure` instruction should start at t0 that is multiple of 16dt (acquire alignment)\n",
    "- `Gate` instruction should start at t0 that is multiple of 16dt (pulse alignment).\n",
    "\n",
    "Previously IBM hardwares had `pulse_alignment=1` (i.e. no constraints on gate start time), but recent hardware started to impose `pulse_alignment=16`. For example, dynamical decoupling pass cannot take arbitrary echo-gate intervals.\n",
    "\n",
    "This is where alignment passes come into play. Currently we only have alignment for acquire constraint.\n",
    "\n",
    "- Schedule > Alignment "
   ]
  },
  {
   "cell_type": "code",
   "execution_count": 2,
   "id": "63be8ee5",
   "metadata": {},
   "outputs": [],
   "source": [
    "from qiskit.transpiler.passmanager import PassManager\n",
    "from qiskit.transpiler.passes import ALAPSchedule, AlignMeasures\n",
    "from qiskit.transpiler.instruction_durations import InstructionDurations\n",
    "\n",
    "durations = InstructionDurations([(\"sx\", (0, ), 160), (\"cx\", (0, 1), 800), (\"measure\", (1, ), 1600)])"
   ]
  },
  {
   "cell_type": "markdown",
   "id": "6be6e0e6",
   "metadata": {},
   "source": [
    "First the circuit is scheduled"
   ]
  },
  {
   "cell_type": "code",
   "execution_count": 3,
   "id": "2ab8933a",
   "metadata": {},
   "outputs": [
    {
     "data": {
      "text/html": [
       "<pre style=\"word-wrap: normal;white-space: pre;background: #fff0;line-height: 1.1;font-family: &quot;Courier New&quot;,Courier,monospace\">           ┌────┐      ┌────────────────┐     ┌─────────────────┐\n",
       "q_0: ──────┤ √X ├──────┤ Delay(100[dt]) ├──■──┤ Delay(1600[dt]) ├\n",
       "     ┌─────┴────┴─────┐└────────────────┘┌─┴─┐└───────┬─┬───────┘\n",
       "q_1: ┤ Delay(260[dt]) ├──────────────────┤ X ├────────┤M├────────\n",
       "     └────────────────┘                  └───┘        └╥┘        \n",
       "c: 1/══════════════════════════════════════════════════╩═════════\n",
       "                                                       0         </pre>"
      ],
      "text/plain": [
       "           ┌────┐      ┌────────────────┐     ┌─────────────────┐\n",
       "q_0: ──────┤ √X ├──────┤ Delay(100[dt]) ├──■──┤ Delay(1600[dt]) ├\n",
       "     ┌─────┴────┴─────┐└────────────────┘┌─┴─┐└───────┬─┬───────┘\n",
       "q_1: ┤ Delay(260[dt]) ├──────────────────┤ X ├────────┤M├────────\n",
       "     └────────────────┘                  └───┘        └╥┘        \n",
       "c: 1/══════════════════════════════════════════════════╩═════════\n",
       "                                                       0         "
      ]
     },
     "execution_count": 3,
     "metadata": {},
     "output_type": "execute_result"
    }
   ],
   "source": [
    "# this is as of Qiskit v0.19\n",
    "pm = PassManager([ALAPSchedule(durations)])\n",
    "pm.run(qc).draw()"
   ]
  },
  {
   "cell_type": "markdown",
   "id": "84b80a5f",
   "metadata": {},
   "source": [
    "Then aligned."
   ]
  },
  {
   "cell_type": "code",
   "execution_count": 4,
   "id": "66b88149",
   "metadata": {},
   "outputs": [
    {
     "data": {
      "text/html": [
       "<pre style=\"word-wrap: normal;white-space: pre;background: #fff0;line-height: 1.1;font-family: &quot;Courier New&quot;,Courier,monospace\">           ┌────┐      ┌────────────────┐     ┌─────────────────┐   \n",
       "q_0: ──────┤ √X ├──────┤ Delay(100[dt]) ├──■──┤ Delay(1612[dt]) ├───\n",
       "     ┌─────┴────┴─────┐└────────────────┘┌─┴─┐└┬───────────────┬┘┌─┐\n",
       "q_1: ┤ Delay(260[dt]) ├──────────────────┤ X ├─┤ Delay(12[dt]) ├─┤M├\n",
       "     └────────────────┘                  └───┘ └───────────────┘ └╥┘\n",
       "c: 1/═════════════════════════════════════════════════════════════╩═\n",
       "                                                                  0 </pre>"
      ],
      "text/plain": [
       "           ┌────┐      ┌────────────────┐     ┌─────────────────┐   \n",
       "q_0: ──────┤ √X ├──────┤ Delay(100[dt]) ├──■──┤ Delay(1612[dt]) ├───\n",
       "     ┌─────┴────┴─────┐└────────────────┘┌─┴─┐└┬───────────────┬┘┌─┐\n",
       "q_1: ┤ Delay(260[dt]) ├──────────────────┤ X ├─┤ Delay(12[dt]) ├─┤M├\n",
       "     └────────────────┘                  └───┘ └───────────────┘ └╥┘\n",
       "c: 1/═════════════════════════════════════════════════════════════╩═\n",
       "                                                                  0 "
      ]
     },
     "execution_count": 4,
     "metadata": {},
     "output_type": "execute_result"
    }
   ],
   "source": [
    "# this is as of Qiskit v0.19\n",
    "pm = PassManager([ALAPSchedule(durations), AlignMeasures(alignment=16)])\n",
    "pm.run(qc).draw()"
   ]
  },
  {
   "cell_type": "markdown",
   "id": "2e85ef3c",
   "metadata": {},
   "source": [
    "Note that scheduling is done in relative timing, i.e. by adding delays in between gates:\n",
    "\n",
    "- All transpiler passes had been `TransformationPass`, which always create new `DAGCircuit`. \n",
    "- We needed to sum up all DAGOpNode duration on the wire to evaluate constraint (i.e. it is applied to t0)\n",
    "\n",
    "\n",
    "In addition, current scheduling doesn't support control flow. This will be important to accurately simulate dynamic circuit."
   ]
  },
  {
   "cell_type": "code",
   "execution_count": 5,
   "id": "8032f8b8",
   "metadata": {},
   "outputs": [
    {
     "data": {
      "text/plain": [
       "[]"
      ]
     },
     "execution_count": 5,
     "metadata": {},
     "output_type": "execute_result"
    }
   ],
   "source": [
    "FakeWashington().configuration().conditional_latency"
   ]
  },
  {
   "cell_type": "code",
   "execution_count": 6,
   "id": "c636f6e2",
   "metadata": {},
   "outputs": [
    {
     "data": {
      "text/plain": [
       "[]"
      ]
     },
     "execution_count": 6,
     "metadata": {},
     "output_type": "execute_result"
    }
   ],
   "source": [
    "FakeWashington().configuration().acquisition_latency"
   ]
  },
  {
   "cell_type": "markdown",
   "id": "f292eced",
   "metadata": {},
   "source": [
    "### Realistic control flow support\n",
    "\n",
    "Let's check the behavior of following circuit."
   ]
  },
  {
   "cell_type": "code",
   "execution_count": 1,
   "id": "6b366df7",
   "metadata": {},
   "outputs": [
    {
     "data": {
      "text/html": [
       "<pre style=\"word-wrap: normal;white-space: pre;background: #fff0;line-height: 1.1;font-family: &quot;Courier New&quot;,Courier,monospace\">     ┌───┐┌─┐   ┌───┐      \n",
       "q_0: ┤ X ├┤M├───┤ X ├──────\n",
       "     └───┘└╥┘   └─╥─┘   ┌─┐\n",
       "q_1: ──────╫──────╫─────┤M├\n",
       "           ║ ┌────╨────┐└╥┘\n",
       "c: 1/══════╩═╡ c_0=0x0 ╞═╩═\n",
       "           0 └─────────┘ 0 </pre>"
      ],
      "text/plain": [
       "     ┌───┐┌─┐   ┌───┐      \n",
       "q_0: ┤ X ├┤M├───┤ X ├──────\n",
       "     └───┘└╥┘   └─╥─┘   ┌─┐\n",
       "q_1: ──────╫──────╫─────┤M├\n",
       "           ║ ┌────╨────┐└╥┘\n",
       "c: 1/══════╩═╡ c_0=0x0 ╞═╩═\n",
       "           0 └─────────┘ 0 "
      ]
     },
     "execution_count": 1,
     "metadata": {},
     "output_type": "execute_result"
    }
   ],
   "source": [
    "from qiskit import QuantumCircuit\n",
    "\n",
    "qc = QuantumCircuit(2, 1)\n",
    "qc.x(0)\n",
    "qc.measure(0, 0)\n",
    "qc.x(0).c_if(0, 0)\n",
    "qc.measure(1, 0)\n",
    "\n",
    "qc.draw()"
   ]
  },
  {
   "cell_type": "code",
   "execution_count": 2,
   "id": "7250151e",
   "metadata": {},
   "outputs": [],
   "source": [
    "from qiskit.transpiler.passmanager import PassManager\n",
    "from qiskit.transpiler.passes import ALAPSchedule\n",
    "from qiskit.transpiler.instruction_durations import InstructionDurations\n",
    "from qiskit.visualization import timeline_drawer\n",
    "\n",
    "durations = InstructionDurations([(\"x\", None, 160), (\"measure\", None, 1600)])"
   ]
  },
  {
   "cell_type": "markdown",
   "id": "4ab0b5fe",
   "metadata": {},
   "source": [
    "It doesn't seem that the topoligical ordering of nodes is preserved in the schedule view. However, we can confirm it is actually preserved. Here nodes only share the classical bit `c0`.\n",
    "\n",
    "Define: instrucion timeslot (`t0`, `t1`)\n",
    "- `Measure` instruction accesses `c0` at `t1`\n",
    "- Conditional operation `X` accesses `c0` at `t0`"
   ]
  },
  {
   "cell_type": "code",
   "execution_count": 3,
   "id": "91f086d8",
   "metadata": {},
   "outputs": [
    {
     "data": {
      "text/html": [
       "<pre style=\"word-wrap: normal;white-space: pre;background: #fff0;line-height: 1.1;font-family: &quot;Courier New&quot;,Courier,monospace\">           ┌───┐       ┌─┐   ┌───┐      \n",
       "q_0: ──────┤ X ├───────┤M├───┤ X ├──────\n",
       "     ┌─────┴───┴──────┐└╥┘   └─╥─┘   ┌─┐\n",
       "q_1: ┤ Delay(320[dt]) ├─╫──────╫─────┤M├\n",
       "     └────────────────┘ ║ ┌────╨────┐└╥┘\n",
       "c: 1/═══════════════════╩═╡ c_0=0x0 ╞═╩═\n",
       "                        0 └─────────┘ 0 </pre>"
      ],
      "text/plain": [
       "           ┌───┐       ┌─┐   ┌───┐      \n",
       "q_0: ──────┤ X ├───────┤M├───┤ X ├──────\n",
       "     ┌─────┴───┴──────┐└╥┘   └─╥─┘   ┌─┐\n",
       "q_1: ┤ Delay(320[dt]) ├─╫──────╫─────┤M├\n",
       "     └────────────────┘ ║ ┌────╨────┐└╥┘\n",
       "c: 1/═══════════════════╩═╡ c_0=0x0 ╞═╩═\n",
       "                        0 └─────────┘ 0 "
      ]
     },
     "execution_count": 3,
     "metadata": {},
     "output_type": "execute_result"
    }
   ],
   "source": [
    "# this is as of Qiskit v0.19\n",
    "pm = PassManager([ALAPSchedule(durations)])\n",
    "qc_scheduled = pm.run(qc)\n",
    "qc_scheduled.draw()"
   ]
  },
  {
   "cell_type": "code",
   "execution_count": 4,
   "id": "8684c6d1",
   "metadata": {},
   "outputs": [
    {
     "data": {
      "image/png": "[encoded data removed]",
      "text/plain": [
       "<Figure size 1008x172.8 with 1 Axes>"
      ]
     },
     "execution_count": 4,
     "metadata": {},
     "output_type": "execute_result"
    }
   ],
   "source": [
    "# this is as of Qiskit v0.19\n",
    "timeline_drawer(qc_scheduled)"
   ]
  },
  {
   "cell_type": "markdown",
   "id": "e18f1062",
   "metadata": {},
   "source": [
    "Let's check another example (just removed conditional gate. Pulse IR doesn't support control flow)."
   ]
  },
  {
   "cell_type": "code",
   "execution_count": 5,
   "id": "2244fa48",
   "metadata": {},
   "outputs": [
    {
     "data": {
      "text/html": [
       "<pre style=\"word-wrap: normal;white-space: pre;background: #fff0;line-height: 1.1;font-family: &quot;Courier New&quot;,Courier,monospace\">     ┌───┐┌─┐   \n",
       "q_0: ┤ X ├┤M├───\n",
       "     └───┘└╥┘┌─┐\n",
       "q_1: ──────╫─┤M├\n",
       "           ║ └╥┘\n",
       "c: 1/══════╩══╩═\n",
       "           0  0 </pre>"
      ],
      "text/plain": [
       "     ┌───┐┌─┐   \n",
       "q_0: ┤ X ├┤M├───\n",
       "     └───┘└╥┘┌─┐\n",
       "q_1: ──────╫─┤M├\n",
       "           ║ └╥┘\n",
       "c: 1/══════╩══╩═\n",
       "           0  0 "
      ]
     },
     "execution_count": 5,
     "metadata": {},
     "output_type": "execute_result"
    }
   ],
   "source": [
    "from qiskit import QuantumCircuit\n",
    "\n",
    "qc = QuantumCircuit(2, 1)\n",
    "qc.x(0)\n",
    "qc.measure(0, 0)\n",
    "qc.measure(1, 0)\n",
    "\n",
    "qc.draw()"
   ]
  },
  {
   "cell_type": "code",
   "execution_count": 6,
   "id": "e4c5e6f9",
   "metadata": {},
   "outputs": [
    {
     "data": {
      "text/html": [
       "<pre style=\"word-wrap: normal;white-space: pre;background: #fff0;line-height: 1.1;font-family: &quot;Courier New&quot;,Courier,monospace\">           ┌───┐       ┌─┐   \n",
       "q_0: ──────┤ X ├───────┤M├───\n",
       "     ┌─────┴───┴──────┐└╥┘┌─┐\n",
       "q_1: ┤ Delay(160[dt]) ├─╫─┤M├\n",
       "     └────────────────┘ ║ └╥┘\n",
       "c: 1/═══════════════════╩══╩═\n",
       "                        0  0 </pre>"
      ],
      "text/plain": [
       "           ┌───┐       ┌─┐   \n",
       "q_0: ──────┤ X ├───────┤M├───\n",
       "     ┌─────┴───┴──────┐└╥┘┌─┐\n",
       "q_1: ┤ Delay(160[dt]) ├─╫─┤M├\n",
       "     └────────────────┘ ║ └╥┘\n",
       "c: 1/═══════════════════╩══╩═\n",
       "                        0  0 "
      ]
     },
     "execution_count": 6,
     "metadata": {},
     "output_type": "execute_result"
    }
   ],
   "source": [
    "# this is as of Qiskit v0.19\n",
    "pm = PassManager([ALAPSchedule(durations)])\n",
    "qc_scheduled = pm.run(qc)\n",
    "qc_scheduled.draw()"
   ]
  },
  {
   "cell_type": "markdown",
   "id": "facba194",
   "metadata": {},
   "source": [
    "When we schedule this circuit, it causes an error since pulse doesn't accept accessing the same memory slot at the same time."
   ]
  },
  {
   "cell_type": "code",
   "execution_count": 7,
   "id": "0874bfd2",
   "metadata": {},
   "outputs": [
    {
     "data": {
      "image/png": "[encoded data removed]",
      "text/plain": [
       "<Figure size 1008x172.8 with 1 Axes>"
      ]
     },
     "execution_count": 7,
     "metadata": {},
     "output_type": "execute_result"
    }
   ],
   "source": [
    "# this is as of Qiskit v0.19\n",
    "timeline_drawer(qc_scheduled)"
   ]
  },
  {
   "cell_type": "code",
   "execution_count": 8,
   "id": "2b684adb",
   "metadata": {},
   "outputs": [
    {
     "name": "stdout",
     "output_type": "stream",
     "text": [
      "\"Schedule(name='') cannot be inserted into Schedule(name='Default measurement schedule for qubits [0, 1]') at time 0 because its instruction on channel MemorySlot(0) scheduled from time 0 to 22400 overlaps with an existing instruction.\"\n"
     ]
    }
   ],
   "source": [
    "# this is as of Qiskit v0.19\n",
    "\n",
    "from qiskit import schedule\n",
    "from qiskit.test.mock import FakeBelem\n",
    "\n",
    "try:\n",
    "    sched = schedule(qc, FakeBelem())\n",
    "except Exception as ex:\n",
    "    print(ex)"
   ]
  },
  {
   "cell_type": "markdown",
   "id": "2f7953f5",
   "metadata": {},
   "source": [
    "This means circuit scheduling and pulse scheduling have different policy."
   ]
  },
  {
   "cell_type": "markdown",
   "id": "536c8d82",
   "metadata": {},
   "source": [
    "## qiskit-terra/#7655 + #7709 + #7762 (wip)\n",
    "\n",
    "In this PR, scheduling passes are converted into `AnalysisPass` where the absolute time information is created in the property set."
   ]
  },
  {
   "cell_type": "markdown",
   "id": "4a5bb02d",
   "metadata": {},
   "source": [
    "### Alignment (reschedule)"
   ]
  },
  {
   "cell_type": "code",
   "execution_count": 1,
   "id": "45e04a87",
   "metadata": {},
   "outputs": [
    {
     "data": {
      "text/html": [
       "<pre style=\"word-wrap: normal;white-space: pre;background: #fff0;line-height: 1.1;font-family: &quot;Courier New&quot;,Courier,monospace\">     ┌────┐┌────────────────┐        \n",
       "q_0: ┤ √X ├┤ Delay(100[dt]) ├──■─────\n",
       "     └────┘└────────────────┘┌─┴─┐┌─┐\n",
       "q_1: ────────────────────────┤ X ├┤M├\n",
       "                             └───┘└╥┘\n",
       "c: 1/══════════════════════════════╩═\n",
       "                                   0 </pre>"
      ],
      "text/plain": [
       "     ┌────┐┌────────────────┐        \n",
       "q_0: ┤ √X ├┤ Delay(100[dt]) ├──■─────\n",
       "     └────┘└────────────────┘┌─┴─┐┌─┐\n",
       "q_1: ────────────────────────┤ X ├┤M├\n",
       "                             └───┘└╥┘\n",
       "c: 1/══════════════════════════════╩═\n",
       "                                   0 "
      ]
     },
     "execution_count": 1,
     "metadata": {},
     "output_type": "execute_result"
    }
   ],
   "source": [
    "from qiskit import QuantumCircuit\n",
    "\n",
    "qc = QuantumCircuit(2, 1)\n",
    "qc.sx(0)\n",
    "qc.delay(100, 0)\n",
    "qc.cx(0, 1)\n",
    "qc.measure(1, 0)\n",
    "\n",
    "qc.draw()"
   ]
  },
  {
   "cell_type": "code",
   "execution_count": 29,
   "id": "906395fe",
   "metadata": {},
   "outputs": [],
   "source": [
    "from qiskit.transpiler.passmanager import PassManager\n",
    "from qiskit.transpiler.passes import ALAPSchedule, PadDelay, ConstrainedReschedule\n",
    "from qiskit.transpiler.instruction_durations import InstructionDurations\n",
    "\n",
    "durations = InstructionDurations([(\"sx\", (0, ), 160), (\"cx\", (0, 1), 800), (\"measure\", (1, ), 1600)])"
   ]
  },
  {
   "cell_type": "code",
   "execution_count": 3,
   "id": "fa21d391",
   "metadata": {},
   "outputs": [
    {
     "data": {
      "text/html": [
       "<pre style=\"word-wrap: normal;white-space: pre;background: #fff0;line-height: 1.1;font-family: &quot;Courier New&quot;,Courier,monospace\">     ┌────┐┌────────────────┐        \n",
       "q_0: ┤ √X ├┤ Delay(100[dt]) ├──■─────\n",
       "     └────┘└────────────────┘┌─┴─┐┌─┐\n",
       "q_1: ────────────────────────┤ X ├┤M├\n",
       "                             └───┘└╥┘\n",
       "c: 1/══════════════════════════════╩═\n",
       "                                   0 </pre>"
      ],
      "text/plain": [
       "     ┌────┐┌────────────────┐        \n",
       "q_0: ┤ √X ├┤ Delay(100[dt]) ├──■─────\n",
       "     └────┘└────────────────┘┌─┴─┐┌─┐\n",
       "q_1: ────────────────────────┤ X ├┤M├\n",
       "                             └───┘└╥┘\n",
       "c: 1/══════════════════════════════╩═\n",
       "                                   0 "
      ]
     },
     "execution_count": 3,
     "metadata": {},
     "output_type": "execute_result"
    }
   ],
   "source": [
    "pm = PassManager([ALAPSchedule(durations)])\n",
    "pm.run(qc).draw()"
   ]
  },
  {
   "cell_type": "markdown",
   "id": "b55fd279",
   "metadata": {},
   "source": [
    "Because `ALAPSchedule` is now turned into analysis pass, this doesn't change circuit. Instead,"
   ]
  },
  {
   "cell_type": "code",
   "execution_count": 25,
   "id": "9322fcb9",
   "metadata": {},
   "outputs": [
    {
     "name": "stdout",
     "output_type": "stream",
     "text": [
      "1060 dt: measure ([Qubit(QuantumRegister(2, 'q'), 1)] [Clbit(ClassicalRegister(1, 'c'), 0)])\n",
      " 260 dt: cx ([Qubit(QuantumRegister(2, 'q'), 0), Qubit(QuantumRegister(2, 'q'), 1)] [])\n",
      " 160 dt: delay ([Qubit(QuantumRegister(2, 'q'), 0)] [])\n",
      "   0 dt: sx ([Qubit(QuantumRegister(2, 'q'), 0)] [])\n"
     ]
    }
   ],
   "source": [
    "for node, t in pm.property_set[\"node_start_time\"].items():\n",
    "    print(f\"{t :4d} dt: {node.name} ({node.qargs} {node.cargs})\")"
   ]
  },
  {
   "cell_type": "markdown",
   "id": "6f24c81b",
   "metadata": {},
   "source": [
    "Reschedule pass now just update this dictionary."
   ]
  },
  {
   "cell_type": "code",
   "execution_count": 30,
   "id": "75b757c9",
   "metadata": {},
   "outputs": [
    {
     "data": {
      "text/html": [
       "<pre style=\"word-wrap: normal;white-space: pre;background: #fff0;line-height: 1.1;font-family: &quot;Courier New&quot;,Courier,monospace\">     ┌────┐┌────────────────┐        \n",
       "q_0: ┤ √X ├┤ Delay(100[dt]) ├──■─────\n",
       "     └────┘└────────────────┘┌─┴─┐┌─┐\n",
       "q_1: ────────────────────────┤ X ├┤M├\n",
       "                             └───┘└╥┘\n",
       "c: 1/══════════════════════════════╩═\n",
       "                                   0 </pre>"
      ],
      "text/plain": [
       "     ┌────┐┌────────────────┐        \n",
       "q_0: ┤ √X ├┤ Delay(100[dt]) ├──■─────\n",
       "     └────┘└────────────────┘┌─┴─┐┌─┐\n",
       "q_1: ────────────────────────┤ X ├┤M├\n",
       "                             └───┘└╥┘\n",
       "c: 1/══════════════════════════════╩═\n",
       "                                   0 "
      ]
     },
     "execution_count": 30,
     "metadata": {},
     "output_type": "execute_result"
    }
   ],
   "source": [
    "pm = PassManager(\n",
    "    [\n",
    "        ALAPSchedule(durations), \n",
    "        ConstrainedReschedule(acquire_alignment=16, pulse_alignment=16),\n",
    "    ]\n",
    ")\n",
    "pm.run(qc).draw()"
   ]
  },
  {
   "cell_type": "code",
   "execution_count": 31,
   "id": "c3a5c142",
   "metadata": {},
   "outputs": [
    {
     "name": "stdout",
     "output_type": "stream",
     "text": [
      "1072 dt: measure ([Qubit(QuantumRegister(2, 'q'), 1)] [Clbit(ClassicalRegister(1, 'c'), 0)])\n",
      " 272 dt: cx ([Qubit(QuantumRegister(2, 'q'), 0), Qubit(QuantumRegister(2, 'q'), 1)] [])\n",
      " 160 dt: delay ([Qubit(QuantumRegister(2, 'q'), 0)] [])\n",
      "   0 dt: sx ([Qubit(QuantumRegister(2, 'q'), 0)] [])\n"
     ]
    }
   ],
   "source": [
    "for node, t in pm.property_set[\"node_start_time\"].items():\n",
    "    print(f\"{t :4d} dt: {node.name} ({node.qargs} {node.cargs})\")"
   ]
  },
  {
   "cell_type": "markdown",
   "id": "4b545032",
   "metadata": {},
   "source": [
    "To reflect schedule information to the program, we need padding passes at the end of pass manager passes. Note that QASM is not aware of absolute instruction timing. Here `PadDelay` pass inserts `Delay` in idle times."
   ]
  },
  {
   "cell_type": "code",
   "execution_count": 32,
   "id": "5dda2ce7",
   "metadata": {},
   "outputs": [
    {
     "data": {
      "text/html": [
       "<pre style=\"word-wrap: normal;white-space: pre;background: #fff0;line-height: 1.1;font-family: &quot;Courier New&quot;,Courier,monospace\">           ┌────┐      ┌────────────────┐     ┌─────────────────┐\n",
       "q_0: ──────┤ √X ├──────┤ Delay(112[dt]) ├──■──┤ Delay(1600[dt]) ├\n",
       "     ┌─────┴────┴─────┐└────────────────┘┌─┴─┐└───────┬─┬───────┘\n",
       "q_1: ┤ Delay(272[dt]) ├──────────────────┤ X ├────────┤M├────────\n",
       "     └────────────────┘                  └───┘        └╥┘        \n",
       "c: 1/══════════════════════════════════════════════════╩═════════\n",
       "                                                       0         </pre>"
      ],
      "text/plain": [
       "           ┌────┐      ┌────────────────┐     ┌─────────────────┐\n",
       "q_0: ──────┤ √X ├──────┤ Delay(112[dt]) ├──■──┤ Delay(1600[dt]) ├\n",
       "     ┌─────┴────┴─────┐└────────────────┘┌─┴─┐└───────┬─┬───────┘\n",
       "q_1: ┤ Delay(272[dt]) ├──────────────────┤ X ├────────┤M├────────\n",
       "     └────────────────┘                  └───┘        └╥┘        \n",
       "c: 1/══════════════════════════════════════════════════╩═════════\n",
       "                                                       0         "
      ]
     },
     "execution_count": 32,
     "metadata": {},
     "output_type": "execute_result"
    }
   ],
   "source": [
    "pm = PassManager(\n",
    "    [\n",
    "        ALAPSchedule(durations), \n",
    "        ConstrainedReschedule(acquire_alignment=16, pulse_alignment=16),\n",
    "        PadDelay(),\n",
    "    ]\n",
    ")\n",
    "pm.run(qc).draw()"
   ]
  },
  {
   "cell_type": "markdown",
   "id": "4c250c53",
   "metadata": {},
   "source": [
    "### Control flow\n",
    "Now scheduling passes take `clbit_write_latency`, `conditional_latency`."
   ]
  },
  {
   "cell_type": "code",
   "execution_count": 36,
   "id": "f47316ab",
   "metadata": {},
   "outputs": [
    {
     "data": {
      "text/html": [
       "<pre style=\"word-wrap: normal;white-space: pre;background: #fff0;line-height: 1.1;font-family: &quot;Courier New&quot;,Courier,monospace\">            ┌───┐       ┌─┐   ┌───┐   ┌─────────────────┐\n",
       "q_0: ───────┤ X ├───────┤M├───┤ X ├───┤ Delay(1440[dt]) ├\n",
       "     ┌──────┴───┴──────┐└╥┘   └─╥─┘   └───────┬─┬───────┘\n",
       "q_1: ┤ Delay(1760[dt]) ├─╫──────╫─────────────┤M├────────\n",
       "     └─────────────────┘ ║ ┌────╨────┐        └╥┘        \n",
       "c: 1/════════════════════╩═╡ c_0=0x0 ╞═════════╩═════════\n",
       "                         0 └─────────┘         0         </pre>"
      ],
      "text/plain": [
       "            ┌───┐       ┌─┐   ┌───┐   ┌─────────────────┐\n",
       "q_0: ───────┤ X ├───────┤M├───┤ X ├───┤ Delay(1440[dt]) ├\n",
       "     ┌──────┴───┴──────┐└╥┘   └─╥─┘   └───────┬─┬───────┘\n",
       "q_1: ┤ Delay(1760[dt]) ├─╫──────╫─────────────┤M├────────\n",
       "     └─────────────────┘ ║ ┌────╨────┐        └╥┘        \n",
       "c: 1/════════════════════╩═╡ c_0=0x0 ╞═════════╩═════════\n",
       "                         0 └─────────┘         0         "
      ]
     },
     "execution_count": 36,
     "metadata": {},
     "output_type": "execute_result"
    }
   ],
   "source": [
    "from qiskit import QuantumCircuit\n",
    "from qiskit.visualization import timeline_drawer\n",
    "\n",
    "durations = InstructionDurations([(\"x\", None, 160), (\"measure\", None, 1600)])\n",
    "\n",
    "qc = QuantumCircuit(2, 1)\n",
    "qc.x(0)\n",
    "qc.measure(0, 0)\n",
    "qc.x(0).c_if(0, 0)\n",
    "qc.measure(1, 0)\n",
    "\n",
    "pm = PassManager(\n",
    "    [\n",
    "        ALAPSchedule(durations), \n",
    "        PadDelay(),\n",
    "    ]\n",
    ")\n",
    "qc_scheduled = pm.run(qc)\n",
    "qc_scheduled.draw()"
   ]
  },
  {
   "cell_type": "code",
   "execution_count": 37,
   "id": "bc42e917",
   "metadata": {},
   "outputs": [
    {
     "data": {
      "image/png": "[encoded data removed]",
      "text/plain": [
       "<Figure size 1008x172.8 with 1 Axes>"
      ]
     },
     "execution_count": 37,
     "metadata": {},
     "output_type": "execute_result"
    }
   ],
   "source": [
    "timeline_drawer(qc_scheduled)"
   ]
  },
  {
   "cell_type": "code",
   "execution_count": 40,
   "id": "5fa5da4b",
   "metadata": {
    "scrolled": false
   },
   "outputs": [
    {
     "data": {
      "image/png": "[encoded data removed]",
      "text/plain": [
       "<Figure size 1008x172.8 with 1 Axes>"
      ]
     },
     "execution_count": 40,
     "metadata": {},
     "output_type": "execute_result"
    }
   ],
   "source": [
    "pm = PassManager(\n",
    "    [\n",
    "        ALAPSchedule(durations, clbit_write_latency=300, conditional_latency=200), \n",
    "        PadDelay(),\n",
    "    ]\n",
    ")\n",
    "qc_scheduled = pm.run(qc)\n",
    "timeline_drawer(qc_scheduled)"
   ]
  },
  {
   "cell_type": "markdown",
   "id": "6b150af5",
   "metadata": {},
   "source": [
    "Reproducing Qiskit-terra 0.19, i.e. `clbit_write_latency = t1`"
   ]
  },
  {
   "cell_type": "code",
   "execution_count": 41,
   "id": "c537de55",
   "metadata": {},
   "outputs": [
    {
     "data": {
      "image/png": "[encoded data removed]",
      "text/plain": [
       "<Figure size 1008x172.8 with 1 Axes>"
      ]
     },
     "execution_count": 41,
     "metadata": {},
     "output_type": "execute_result"
    }
   ],
   "source": [
    "pm = PassManager(\n",
    "    [\n",
    "        ALAPSchedule(durations, clbit_write_latency=1600, conditional_latency=0), \n",
    "        PadDelay(),\n",
    "    ]\n",
    ")\n",
    "qc_scheduled = pm.run(qc)\n",
    "timeline_drawer(qc_scheduled)"
   ]
  },
  {
   "cell_type": "markdown",
   "id": "3d7d05ab",
   "metadata": {},
   "source": [
    "## qiskit-terra/#7760 (ready)\n",
    "\n",
    "Now `DynamicalDecoupling` pass is redesigned as a subclass of `BasePadding` pass. \n",
    "\n",
    "- `PadDelay`: Insert `Delay` to idle time\n",
    "- `DynamicalDecoupling`: Insert DD sequence to idle time\n",
    "\n",
    "These are _Padding_ pass families. Note that DD circuit can be directly created from scheduling information, and thus `DAGCircuit` is regenerated only once."
   ]
  },
  {
   "cell_type": "code",
   "execution_count": 51,
   "id": "d53e4f93",
   "metadata": {},
   "outputs": [],
   "source": [
    "from qiskit.transpiler.passes import DynamicalDecoupling\n",
    "from qiskit.circuit.library import XGate, YGate\n",
    "\n",
    "ghz4 = QuantumCircuit(4)\n",
    "\n",
    "ghz4.h(0)\n",
    "ghz4.cx(0, 1)\n",
    "ghz4.cx(1, 2)\n",
    "ghz4.cx(2, 3)\n",
    "\n",
    "ghz4.draw()\n",
    "\n",
    "durations = InstructionDurations([(\"h\", None, 160), (\"x\", None, 160), (\"y\", None, 160), (\"cx\", None, 800)])\n",
    "dd_sequence = [XGate(), YGate(), XGate(), YGate()]"
   ]
  },
  {
   "cell_type": "markdown",
   "id": "c4fbd922",
   "metadata": {},
   "source": [
    "`PadDelay` pass"
   ]
  },
  {
   "cell_type": "code",
   "execution_count": 58,
   "id": "d332a62f",
   "metadata": {},
   "outputs": [
    {
     "data": {
      "image/png": "[encoded data removed]",
      "text/plain": [
       "<Figure size 1008x288 with 1 Axes>"
      ]
     },
     "execution_count": 58,
     "metadata": {},
     "output_type": "execute_result"
    }
   ],
   "source": [
    "pm = PassManager(\n",
    "    [\n",
    "        ALAPSchedule(durations, clbit_write_latency=1600, conditional_latency=0), \n",
    "        PadDelay(),\n",
    "    ]\n",
    ")\n",
    "qc_scheduled = pm.run(ghz4)\n",
    "\n",
    "timeline_drawer(qc_scheduled)"
   ]
  },
  {
   "cell_type": "markdown",
   "id": "5e73d1db",
   "metadata": {},
   "source": [
    "`DynamicalDecoupling` pass. The pass configuration is same as before, but implementation has been overhauled."
   ]
  },
  {
   "cell_type": "code",
   "execution_count": 60,
   "id": "50f0061b",
   "metadata": {},
   "outputs": [
    {
     "data": {
      "image/png": "[encoded data removed]",
      "text/plain": [
       "<Figure size 1008x288 with 1 Axes>"
      ]
     },
     "execution_count": 60,
     "metadata": {},
     "output_type": "execute_result"
    }
   ],
   "source": [
    "pm = PassManager(\n",
    "    [\n",
    "        ALAPSchedule(durations, clbit_write_latency=1600, conditional_latency=0), \n",
    "        DynamicalDecoupling(durations, dd_sequence),\n",
    "    ]\n",
    ")\n",
    "qc_scheduled = pm.run(ghz4)\n",
    "\n",
    "timeline_drawer(qc_scheduled)"
   ]
  },
  {
   "cell_type": "markdown",
   "id": "e64c64a4",
   "metadata": {},
   "source": [
    "In addition, DD pass now takes `pulse_alignment` constraint."
   ]
  },
  {
   "cell_type": "code",
   "execution_count": 61,
   "id": "2d64e281",
   "metadata": {},
   "outputs": [
    {
     "data": {
      "text/html": [
       "<pre style=\"word-wrap: normal;white-space: pre;background: #fff0;line-height: 1.1;font-family: &quot;Courier New&quot;,Courier,monospace\">            ┌───┐            ┌────────────────┐      ┌───┐      »\n",
       "q_0: ───────┤ H ├─────────■──┤ Delay(120[dt]) ├──────┤ X ├──────»\n",
       "      ┌─────┴───┴──────┐┌─┴─┐└────────────────┘┌─────┴───┴─────┐»\n",
       "q_1: ─┤ Delay(160[dt]) ├┤ X ├────────■─────────┤ Delay(20[dt]) ├»\n",
       "      ├────────────────┤└───┘      ┌─┴─┐       └───────────────┘»\n",
       "q_2: ─┤ Delay(960[dt]) ├───────────┤ X ├───────────────■────────»\n",
       "     ┌┴────────────────┤           └───┘             ┌─┴─┐      »\n",
       "q_3: ┤ Delay(1760[dt]) ├─────────────────────────────┤ X ├──────»\n",
       "     └─────────────────┘                             └───┘      »\n",
       "«     ┌────────────────┐      ┌───┐      ┌────────────────┐      ┌───┐      »\n",
       "«q_0: ┤ Delay(240[dt]) ├──────┤ Y ├──────┤ Delay(240[dt]) ├──────┤ X ├──────»\n",
       "«     └─────┬───┬──────┘┌─────┴───┴─────┐└─────┬───┬──────┘┌─────┴───┴─────┐»\n",
       "«q_1: ──────┤ X ├───────┤ Delay(40[dt]) ├──────┤ Y ├───────┤ Delay(40[dt]) ├»\n",
       "«           └───┘       └───────────────┘      └───┘       └───────────────┘»\n",
       "«q_2: ──────────────────────────────────────────────────────────────────────»\n",
       "«                                                                           »\n",
       "«q_3: ──────────────────────────────────────────────────────────────────────»\n",
       "«                                                                           »\n",
       "«     ┌────────────────┐      ┌───┐      ┌────────────────┐                 \n",
       "«q_0: ┤ Delay(240[dt]) ├──────┤ Y ├──────┤ Delay(120[dt]) ├─────────────────\n",
       "«     └─────┬───┬──────┘┌─────┴───┴─────┐└─────┬───┬──────┘┌───────────────┐\n",
       "«q_1: ──────┤ X ├───────┤ Delay(40[dt]) ├──────┤ Y ├───────┤ Delay(20[dt]) ├\n",
       "«           └───┘       └───────────────┘      └───┘       └───────────────┘\n",
       "«q_2: ──────────────────────────────────────────────────────────────────────\n",
       "«                                                                           \n",
       "«q_3: ──────────────────────────────────────────────────────────────────────\n",
       "«                                                                           </pre>"
      ],
      "text/plain": [
       "            ┌───┐            ┌────────────────┐      ┌───┐      »\n",
       "q_0: ───────┤ H ├─────────■──┤ Delay(120[dt]) ├──────┤ X ├──────»\n",
       "      ┌─────┴───┴──────┐┌─┴─┐└────────────────┘┌─────┴───┴─────┐»\n",
       "q_1: ─┤ Delay(160[dt]) ├┤ X ├────────■─────────┤ Delay(20[dt]) ├»\n",
       "      ├────────────────┤└───┘      ┌─┴─┐       └───────────────┘»\n",
       "q_2: ─┤ Delay(960[dt]) ├───────────┤ X ├───────────────■────────»\n",
       "     ┌┴────────────────┤           └───┘             ┌─┴─┐      »\n",
       "q_3: ┤ Delay(1760[dt]) ├─────────────────────────────┤ X ├──────»\n",
       "     └─────────────────┘                             └───┘      »\n",
       "«     ┌────────────────┐      ┌───┐      ┌────────────────┐      ┌───┐      »\n",
       "«q_0: ┤ Delay(240[dt]) ├──────┤ Y ├──────┤ Delay(240[dt]) ├──────┤ X ├──────»\n",
       "«     └─────┬───┬──────┘┌─────┴───┴─────┐└─────┬───┬──────┘┌─────┴───┴─────┐»\n",
       "«q_1: ──────┤ X ├───────┤ Delay(40[dt]) ├──────┤ Y ├───────┤ Delay(40[dt]) ├»\n",
       "«           └───┘       └───────────────┘      └───┘       └───────────────┘»\n",
       "«q_2: ──────────────────────────────────────────────────────────────────────»\n",
       "«                                                                           »\n",
       "«q_3: ──────────────────────────────────────────────────────────────────────»\n",
       "«                                                                           »\n",
       "«     ┌────────────────┐      ┌───┐      ┌────────────────┐                 \n",
       "«q_0: ┤ Delay(240[dt]) ├──────┤ Y ├──────┤ Delay(120[dt]) ├─────────────────\n",
       "«     └─────┬───┬──────┘┌─────┴───┴─────┐└─────┬───┬──────┘┌───────────────┐\n",
       "«q_1: ──────┤ X ├───────┤ Delay(40[dt]) ├──────┤ Y ├───────┤ Delay(20[dt]) ├\n",
       "«           └───┘       └───────────────┘      └───┘       └───────────────┘\n",
       "«q_2: ──────────────────────────────────────────────────────────────────────\n",
       "«                                                                           \n",
       "«q_3: ──────────────────────────────────────────────────────────────────────\n",
       "«                                                                           "
      ]
     },
     "execution_count": 61,
     "metadata": {},
     "output_type": "execute_result"
    }
   ],
   "source": [
    "qc_scheduled.draw()"
   ]
  },
  {
   "cell_type": "code",
   "execution_count": 64,
   "id": "c15b282c",
   "metadata": {},
   "outputs": [
    {
     "data": {
      "text/html": [
       "<pre style=\"word-wrap: normal;white-space: pre;background: #fff0;line-height: 1.1;font-family: &quot;Courier New&quot;,Courier,monospace\">            ┌───┐            ┌────────────────┐      ┌───┐      »\n",
       "q_0: ───────┤ H ├─────────■──┤ Delay(112[dt]) ├──────┤ X ├──────»\n",
       "      ┌─────┴───┴──────┐┌─┴─┐└────────────────┘┌─────┴───┴─────┐»\n",
       "q_1: ─┤ Delay(160[dt]) ├┤ X ├────────■─────────┤ Delay(16[dt]) ├»\n",
       "      ├────────────────┤└───┘      ┌─┴─┐       └───────────────┘»\n",
       "q_2: ─┤ Delay(960[dt]) ├───────────┤ X ├───────────────■────────»\n",
       "     ┌┴────────────────┤           └───┘             ┌─┴─┐      »\n",
       "q_3: ┤ Delay(1760[dt]) ├─────────────────────────────┤ X ├──────»\n",
       "     └─────────────────┘                             └───┘      »\n",
       "«     ┌────────────────┐      ┌───┐      ┌────────────────┐      ┌───┐      »\n",
       "«q_0: ┤ Delay(240[dt]) ├──────┤ Y ├──────┤ Delay(256[dt]) ├──────┤ X ├──────»\n",
       "«     └─────┬───┬──────┘┌─────┴───┴─────┐└─────┬───┬──────┘┌─────┴───┴─────┐»\n",
       "«q_1: ──────┤ X ├───────┤ Delay(32[dt]) ├──────┤ Y ├───────┤ Delay(64[dt]) ├»\n",
       "«           └───┘       └───────────────┘      └───┘       └───────────────┘»\n",
       "«q_2: ──────────────────────────────────────────────────────────────────────»\n",
       "«                                                                           »\n",
       "«q_3: ──────────────────────────────────────────────────────────────────────»\n",
       "«                                                                           »\n",
       "«     ┌────────────────┐      ┌───┐      ┌────────────────┐                 \n",
       "«q_0: ┤ Delay(240[dt]) ├──────┤ Y ├──────┤ Delay(112[dt]) ├─────────────────\n",
       "«     └─────┬───┬──────┘┌─────┴───┴─────┐└─────┬───┬──────┘┌───────────────┐\n",
       "«q_1: ──────┤ X ├───────┤ Delay(32[dt]) ├──────┤ Y ├───────┤ Delay(16[dt]) ├\n",
       "«           └───┘       └───────────────┘      └───┘       └───────────────┘\n",
       "«q_2: ──────────────────────────────────────────────────────────────────────\n",
       "«                                                                           \n",
       "«q_3: ──────────────────────────────────────────────────────────────────────\n",
       "«                                                                           </pre>"
      ],
      "text/plain": [
       "            ┌───┐            ┌────────────────┐      ┌───┐      »\n",
       "q_0: ───────┤ H ├─────────■──┤ Delay(112[dt]) ├──────┤ X ├──────»\n",
       "      ┌─────┴───┴──────┐┌─┴─┐└────────────────┘┌─────┴───┴─────┐»\n",
       "q_1: ─┤ Delay(160[dt]) ├┤ X ├────────■─────────┤ Delay(16[dt]) ├»\n",
       "      ├────────────────┤└───┘      ┌─┴─┐       └───────────────┘»\n",
       "q_2: ─┤ Delay(960[dt]) ├───────────┤ X ├───────────────■────────»\n",
       "     ┌┴────────────────┤           └───┘             ┌─┴─┐      »\n",
       "q_3: ┤ Delay(1760[dt]) ├─────────────────────────────┤ X ├──────»\n",
       "     └─────────────────┘                             └───┘      »\n",
       "«     ┌────────────────┐      ┌───┐      ┌────────────────┐      ┌───┐      »\n",
       "«q_0: ┤ Delay(240[dt]) ├──────┤ Y ├──────┤ Delay(256[dt]) ├──────┤ X ├──────»\n",
       "«     └─────┬───┬──────┘┌─────┴───┴─────┐└─────┬───┬──────┘┌─────┴───┴─────┐»\n",
       "«q_1: ──────┤ X ├───────┤ Delay(32[dt]) ├──────┤ Y ├───────┤ Delay(64[dt]) ├»\n",
       "«           └───┘       └───────────────┘      └───┘       └───────────────┘»\n",
       "«q_2: ──────────────────────────────────────────────────────────────────────»\n",
       "«                                                                           »\n",
       "«q_3: ──────────────────────────────────────────────────────────────────────»\n",
       "«                                                                           »\n",
       "«     ┌────────────────┐      ┌───┐      ┌────────────────┐                 \n",
       "«q_0: ┤ Delay(240[dt]) ├──────┤ Y ├──────┤ Delay(112[dt]) ├─────────────────\n",
       "«     └─────┬───┬──────┘┌─────┴───┴─────┐└─────┬───┬──────┘┌───────────────┐\n",
       "«q_1: ──────┤ X ├───────┤ Delay(32[dt]) ├──────┤ Y ├───────┤ Delay(16[dt]) ├\n",
       "«           └───┘       └───────────────┘      └───┘       └───────────────┘\n",
       "«q_2: ──────────────────────────────────────────────────────────────────────\n",
       "«                                                                           \n",
       "«q_3: ──────────────────────────────────────────────────────────────────────\n",
       "«                                                                           "
      ]
     },
     "execution_count": 64,
     "metadata": {},
     "output_type": "execute_result"
    }
   ],
   "source": [
    "pm = PassManager(\n",
    "    [\n",
    "        ALAPSchedule(durations, clbit_write_latency=1600, conditional_latency=0), \n",
    "        DynamicalDecoupling(durations, dd_sequence, pulse_alignment=16),\n",
    "    ]\n",
    ")\n",
    "qc_scheduled = pm.run(ghz4)\n",
    "\n",
    "qc_scheduled.draw()"
   ]
  },
  {
   "cell_type": "code",
   "execution_count": null,
   "id": "c87b54bc",
   "metadata": {},
   "outputs": [],
   "source": []
  }
 ],
 "metadata": {
  "kernelspec": {
   "display_name": "Python 3",
   "language": "python",
   "name": "python3"
  },
  "language_info": {
   "codemirror_mode": {
    "name": "ipython",
    "version": 3
   },
   "file_extension": ".py",
   "mimetype": "text/x-python",
   "name": "python",
   "nbconvert_exporter": "python",
   "pygments_lexer": "ipython3",
   "version": "3.9.9"
  }
 },
 "nbformat": 4,
 "nbformat_minor": 5
}
